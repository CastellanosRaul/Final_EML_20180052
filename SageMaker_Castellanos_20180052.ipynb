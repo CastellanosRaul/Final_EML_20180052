{
 "cells": [
  {
   "cell_type": "code",
   "execution_count": 1,
   "metadata": {},
   "outputs": [],
   "source": [
    "#pip install tensorflow"
   ]
  },
  {
   "cell_type": "code",
   "execution_count": 2,
   "metadata": {},
   "outputs": [],
   "source": [
    "#pip install keras"
   ]
  },
  {
   "cell_type": "code",
   "execution_count": 3,
   "metadata": {},
   "outputs": [
    {
     "name": "stderr",
     "output_type": "stream",
     "text": [
      "Using TensorFlow backend.\n"
     ]
    }
   ],
   "source": [
    "import pandas as pd\n",
    "import numpy as np\n",
    "import matplotlib.pyplot as plt\n",
    "from sklearn.model_selection import cross_val_score\n",
    "from sklearn.model_selection import KFold\n",
    "from sklearn.preprocessing import LabelEncoder\n",
    "from sklearn.preprocessing import StandardScaler\n",
    "from sklearn.preprocessing import OneHotEncoder\n",
    "from sklearn.model_selection import GridSearchCV\n",
    "from sklearn.model_selection import train_test_split\n",
    "from sklearn.metrics import mean_absolute_error\n",
    "from keras.models import Sequential\n",
    "from keras.layers import Dense, Dropout\n",
    "from keras.wrappers.scikit_learn import KerasClassifier\n",
    "from keras.utils import np_utils\n",
    "import tensorflow as tf"
   ]
  },
  {
   "cell_type": "code",
   "execution_count": 4,
   "metadata": {},
   "outputs": [
    {
     "data": {
      "text/html": [
       "<div>\n",
       "<style scoped>\n",
       "    .dataframe tbody tr th:only-of-type {\n",
       "        vertical-align: middle;\n",
       "    }\n",
       "\n",
       "    .dataframe tbody tr th {\n",
       "        vertical-align: top;\n",
       "    }\n",
       "\n",
       "    .dataframe thead th {\n",
       "        text-align: right;\n",
       "    }\n",
       "</style>\n",
       "<table border=\"1\" class=\"dataframe\">\n",
       "  <thead>\n",
       "    <tr style=\"text-align: right;\">\n",
       "      <th></th>\n",
       "      <th>Price</th>\n",
       "      <th>Host_Response_Rate</th>\n",
       "      <th>Accommodates</th>\n",
       "      <th>Bathrooms</th>\n",
       "      <th>Bedrooms</th>\n",
       "      <th>Beds</th>\n",
       "      <th>Guests_Included</th>\n",
       "      <th>Review_Scores_Rating</th>\n",
       "      <th>Entire Home / Apt</th>\n",
       "      <th>Private Room</th>\n",
       "      <th>...</th>\n",
       "      <th>Property_Type)Bed &amp; Breakfast</th>\n",
       "      <th>Property_Type)Condominium</th>\n",
       "      <th>Property_Type)House</th>\n",
       "      <th>Property_Type)Loft</th>\n",
       "      <th>Property_Type)Other</th>\n",
       "      <th>Cancellation_Policy)flexible</th>\n",
       "      <th>Cancellation_Policy)moderate</th>\n",
       "      <th>Cancellation_Policy)strict</th>\n",
       "      <th>Cleaning Fee: No</th>\n",
       "      <th>Cleaning Fee: Yes</th>\n",
       "    </tr>\n",
       "  </thead>\n",
       "  <tbody>\n",
       "    <tr>\n",
       "      <th>0</th>\n",
       "      <td>90</td>\n",
       "      <td>100</td>\n",
       "      <td>2</td>\n",
       "      <td>1.0</td>\n",
       "      <td>0</td>\n",
       "      <td>1</td>\n",
       "      <td>1</td>\n",
       "      <td>94</td>\n",
       "      <td>1</td>\n",
       "      <td>0</td>\n",
       "      <td>...</td>\n",
       "      <td>0</td>\n",
       "      <td>0</td>\n",
       "      <td>0</td>\n",
       "      <td>0</td>\n",
       "      <td>0</td>\n",
       "      <td>0</td>\n",
       "      <td>1</td>\n",
       "      <td>0</td>\n",
       "      <td>0</td>\n",
       "      <td>1</td>\n",
       "    </tr>\n",
       "    <tr>\n",
       "      <th>1</th>\n",
       "      <td>140</td>\n",
       "      <td>100</td>\n",
       "      <td>6</td>\n",
       "      <td>1.0</td>\n",
       "      <td>2</td>\n",
       "      <td>2</td>\n",
       "      <td>4</td>\n",
       "      <td>93</td>\n",
       "      <td>1</td>\n",
       "      <td>0</td>\n",
       "      <td>...</td>\n",
       "      <td>0</td>\n",
       "      <td>0</td>\n",
       "      <td>0</td>\n",
       "      <td>0</td>\n",
       "      <td>0</td>\n",
       "      <td>0</td>\n",
       "      <td>1</td>\n",
       "      <td>0</td>\n",
       "      <td>0</td>\n",
       "      <td>1</td>\n",
       "    </tr>\n",
       "    <tr>\n",
       "      <th>2</th>\n",
       "      <td>80</td>\n",
       "      <td>99</td>\n",
       "      <td>2</td>\n",
       "      <td>1.0</td>\n",
       "      <td>0</td>\n",
       "      <td>1</td>\n",
       "      <td>1</td>\n",
       "      <td>94</td>\n",
       "      <td>1</td>\n",
       "      <td>0</td>\n",
       "      <td>...</td>\n",
       "      <td>0</td>\n",
       "      <td>0</td>\n",
       "      <td>0</td>\n",
       "      <td>0</td>\n",
       "      <td>0</td>\n",
       "      <td>0</td>\n",
       "      <td>0</td>\n",
       "      <td>1</td>\n",
       "      <td>0</td>\n",
       "      <td>1</td>\n",
       "    </tr>\n",
       "    <tr>\n",
       "      <th>3</th>\n",
       "      <td>690</td>\n",
       "      <td>100</td>\n",
       "      <td>7</td>\n",
       "      <td>2.0</td>\n",
       "      <td>5</td>\n",
       "      <td>5</td>\n",
       "      <td>5</td>\n",
       "      <td>90</td>\n",
       "      <td>1</td>\n",
       "      <td>0</td>\n",
       "      <td>...</td>\n",
       "      <td>0</td>\n",
       "      <td>0</td>\n",
       "      <td>0</td>\n",
       "      <td>0</td>\n",
       "      <td>0</td>\n",
       "      <td>0</td>\n",
       "      <td>0</td>\n",
       "      <td>1</td>\n",
       "      <td>0</td>\n",
       "      <td>1</td>\n",
       "    </tr>\n",
       "    <tr>\n",
       "      <th>4</th>\n",
       "      <td>90</td>\n",
       "      <td>80</td>\n",
       "      <td>2</td>\n",
       "      <td>1.0</td>\n",
       "      <td>0</td>\n",
       "      <td>1</td>\n",
       "      <td>1</td>\n",
       "      <td>94</td>\n",
       "      <td>1</td>\n",
       "      <td>0</td>\n",
       "      <td>...</td>\n",
       "      <td>0</td>\n",
       "      <td>0</td>\n",
       "      <td>0</td>\n",
       "      <td>0</td>\n",
       "      <td>0</td>\n",
       "      <td>0</td>\n",
       "      <td>1</td>\n",
       "      <td>0</td>\n",
       "      <td>1</td>\n",
       "      <td>0</td>\n",
       "    </tr>\n",
       "  </tbody>\n",
       "</table>\n",
       "<p>5 rows × 22 columns</p>\n",
       "</div>"
      ],
      "text/plain": [
       "   Price  Host_Response_Rate  Accommodates  Bathrooms  Bedrooms  Beds  \\\n",
       "0     90                 100             2        1.0         0     1   \n",
       "1    140                 100             6        1.0         2     2   \n",
       "2     80                  99             2        1.0         0     1   \n",
       "3    690                 100             7        2.0         5     5   \n",
       "4     90                  80             2        1.0         0     1   \n",
       "\n",
       "   Guests_Included  Review_Scores_Rating  Entire Home / Apt  Private Room  \\\n",
       "0                1                    94                  1             0   \n",
       "1                4                    93                  1             0   \n",
       "2                1                    94                  1             0   \n",
       "3                5                    90                  1             0   \n",
       "4                1                    94                  1             0   \n",
       "\n",
       "   ...  Property_Type)Bed & Breakfast  Property_Type)Condominium  \\\n",
       "0  ...                              0                          0   \n",
       "1  ...                              0                          0   \n",
       "2  ...                              0                          0   \n",
       "3  ...                              0                          0   \n",
       "4  ...                              0                          0   \n",
       "\n",
       "   Property_Type)House  Property_Type)Loft  Property_Type)Other  \\\n",
       "0                    0                   0                    0   \n",
       "1                    0                   0                    0   \n",
       "2                    0                   0                    0   \n",
       "3                    0                   0                    0   \n",
       "4                    0                   0                    0   \n",
       "\n",
       "   Cancellation_Policy)flexible  Cancellation_Policy)moderate  \\\n",
       "0                             0                             1   \n",
       "1                             0                             1   \n",
       "2                             0                             0   \n",
       "3                             0                             0   \n",
       "4                             0                             1   \n",
       "\n",
       "   Cancellation_Policy)strict  Cleaning Fee: No  Cleaning Fee: Yes  \n",
       "0                           0                 0                  1  \n",
       "1                           0                 0                  1  \n",
       "2                           1                 0                  1  \n",
       "3                           1                 0                  1  \n",
       "4                           0                 1                  0  \n",
       "\n",
       "[5 rows x 22 columns]"
      ]
     },
     "execution_count": 4,
     "metadata": {},
     "output_type": "execute_result"
    }
   ],
   "source": [
    "abnb = pd.read_csv(\"airbnb_final.csv\")\n",
    "abnb.head()"
   ]
  },
  {
   "cell_type": "code",
   "execution_count": 5,
   "metadata": {},
   "outputs": [
    {
     "data": {
      "text/html": [
       "<div>\n",
       "<style scoped>\n",
       "    .dataframe tbody tr th:only-of-type {\n",
       "        vertical-align: middle;\n",
       "    }\n",
       "\n",
       "    .dataframe tbody tr th {\n",
       "        vertical-align: top;\n",
       "    }\n",
       "\n",
       "    .dataframe thead th {\n",
       "        text-align: right;\n",
       "    }\n",
       "</style>\n",
       "<table border=\"1\" class=\"dataframe\">\n",
       "  <thead>\n",
       "    <tr style=\"text-align: right;\">\n",
       "      <th></th>\n",
       "      <th>Host_Response_Rate</th>\n",
       "      <th>Accommodates</th>\n",
       "      <th>Bathrooms</th>\n",
       "      <th>Bedrooms</th>\n",
       "      <th>Beds</th>\n",
       "      <th>Guests_Included</th>\n",
       "      <th>Review_Scores_Rating</th>\n",
       "      <th>Entire Home / Apt</th>\n",
       "      <th>Private Room</th>\n",
       "      <th>Shared Room</th>\n",
       "      <th>...</th>\n",
       "      <th>Property_Type)Bed &amp; Breakfast</th>\n",
       "      <th>Property_Type)Condominium</th>\n",
       "      <th>Property_Type)House</th>\n",
       "      <th>Property_Type)Loft</th>\n",
       "      <th>Property_Type)Other</th>\n",
       "      <th>Cancellation_Policy)flexible</th>\n",
       "      <th>Cancellation_Policy)moderate</th>\n",
       "      <th>Cancellation_Policy)strict</th>\n",
       "      <th>Cleaning Fee: No</th>\n",
       "      <th>Cleaning Fee: Yes</th>\n",
       "    </tr>\n",
       "  </thead>\n",
       "  <tbody>\n",
       "    <tr>\n",
       "      <th>0</th>\n",
       "      <td>100</td>\n",
       "      <td>2</td>\n",
       "      <td>1.0</td>\n",
       "      <td>0</td>\n",
       "      <td>1</td>\n",
       "      <td>1</td>\n",
       "      <td>94</td>\n",
       "      <td>1</td>\n",
       "      <td>0</td>\n",
       "      <td>0</td>\n",
       "      <td>...</td>\n",
       "      <td>0</td>\n",
       "      <td>0</td>\n",
       "      <td>0</td>\n",
       "      <td>0</td>\n",
       "      <td>0</td>\n",
       "      <td>0</td>\n",
       "      <td>1</td>\n",
       "      <td>0</td>\n",
       "      <td>0</td>\n",
       "      <td>1</td>\n",
       "    </tr>\n",
       "    <tr>\n",
       "      <th>1</th>\n",
       "      <td>100</td>\n",
       "      <td>6</td>\n",
       "      <td>1.0</td>\n",
       "      <td>2</td>\n",
       "      <td>2</td>\n",
       "      <td>4</td>\n",
       "      <td>93</td>\n",
       "      <td>1</td>\n",
       "      <td>0</td>\n",
       "      <td>0</td>\n",
       "      <td>...</td>\n",
       "      <td>0</td>\n",
       "      <td>0</td>\n",
       "      <td>0</td>\n",
       "      <td>0</td>\n",
       "      <td>0</td>\n",
       "      <td>0</td>\n",
       "      <td>1</td>\n",
       "      <td>0</td>\n",
       "      <td>0</td>\n",
       "      <td>1</td>\n",
       "    </tr>\n",
       "    <tr>\n",
       "      <th>2</th>\n",
       "      <td>99</td>\n",
       "      <td>2</td>\n",
       "      <td>1.0</td>\n",
       "      <td>0</td>\n",
       "      <td>1</td>\n",
       "      <td>1</td>\n",
       "      <td>94</td>\n",
       "      <td>1</td>\n",
       "      <td>0</td>\n",
       "      <td>0</td>\n",
       "      <td>...</td>\n",
       "      <td>0</td>\n",
       "      <td>0</td>\n",
       "      <td>0</td>\n",
       "      <td>0</td>\n",
       "      <td>0</td>\n",
       "      <td>0</td>\n",
       "      <td>0</td>\n",
       "      <td>1</td>\n",
       "      <td>0</td>\n",
       "      <td>1</td>\n",
       "    </tr>\n",
       "    <tr>\n",
       "      <th>3</th>\n",
       "      <td>100</td>\n",
       "      <td>7</td>\n",
       "      <td>2.0</td>\n",
       "      <td>5</td>\n",
       "      <td>5</td>\n",
       "      <td>5</td>\n",
       "      <td>90</td>\n",
       "      <td>1</td>\n",
       "      <td>0</td>\n",
       "      <td>0</td>\n",
       "      <td>...</td>\n",
       "      <td>0</td>\n",
       "      <td>0</td>\n",
       "      <td>0</td>\n",
       "      <td>0</td>\n",
       "      <td>0</td>\n",
       "      <td>0</td>\n",
       "      <td>0</td>\n",
       "      <td>1</td>\n",
       "      <td>0</td>\n",
       "      <td>1</td>\n",
       "    </tr>\n",
       "    <tr>\n",
       "      <th>4</th>\n",
       "      <td>80</td>\n",
       "      <td>2</td>\n",
       "      <td>1.0</td>\n",
       "      <td>0</td>\n",
       "      <td>1</td>\n",
       "      <td>1</td>\n",
       "      <td>94</td>\n",
       "      <td>1</td>\n",
       "      <td>0</td>\n",
       "      <td>0</td>\n",
       "      <td>...</td>\n",
       "      <td>0</td>\n",
       "      <td>0</td>\n",
       "      <td>0</td>\n",
       "      <td>0</td>\n",
       "      <td>0</td>\n",
       "      <td>0</td>\n",
       "      <td>1</td>\n",
       "      <td>0</td>\n",
       "      <td>1</td>\n",
       "      <td>0</td>\n",
       "    </tr>\n",
       "  </tbody>\n",
       "</table>\n",
       "<p>5 rows × 21 columns</p>\n",
       "</div>"
      ],
      "text/plain": [
       "   Host_Response_Rate  Accommodates  Bathrooms  Bedrooms  Beds  \\\n",
       "0                 100             2        1.0         0     1   \n",
       "1                 100             6        1.0         2     2   \n",
       "2                  99             2        1.0         0     1   \n",
       "3                 100             7        2.0         5     5   \n",
       "4                  80             2        1.0         0     1   \n",
       "\n",
       "   Guests_Included  Review_Scores_Rating  Entire Home / Apt  Private Room  \\\n",
       "0                1                    94                  1             0   \n",
       "1                4                    93                  1             0   \n",
       "2                1                    94                  1             0   \n",
       "3                5                    90                  1             0   \n",
       "4                1                    94                  1             0   \n",
       "\n",
       "   Shared Room  ...  Property_Type)Bed & Breakfast  Property_Type)Condominium  \\\n",
       "0            0  ...                              0                          0   \n",
       "1            0  ...                              0                          0   \n",
       "2            0  ...                              0                          0   \n",
       "3            0  ...                              0                          0   \n",
       "4            0  ...                              0                          0   \n",
       "\n",
       "   Property_Type)House  Property_Type)Loft  Property_Type)Other  \\\n",
       "0                    0                   0                    0   \n",
       "1                    0                   0                    0   \n",
       "2                    0                   0                    0   \n",
       "3                    0                   0                    0   \n",
       "4                    0                   0                    0   \n",
       "\n",
       "   Cancellation_Policy)flexible  Cancellation_Policy)moderate  \\\n",
       "0                             0                             1   \n",
       "1                             0                             1   \n",
       "2                             0                             0   \n",
       "3                             0                             0   \n",
       "4                             0                             1   \n",
       "\n",
       "   Cancellation_Policy)strict  Cleaning Fee: No  Cleaning Fee: Yes  \n",
       "0                           0                 0                  1  \n",
       "1                           0                 0                  1  \n",
       "2                           1                 0                  1  \n",
       "3                           1                 0                  1  \n",
       "4                           0                 1                  0  \n",
       "\n",
       "[5 rows x 21 columns]"
      ]
     },
     "execution_count": 5,
     "metadata": {},
     "output_type": "execute_result"
    }
   ],
   "source": [
    "X = abnb.drop('Price', axis = 'columns')\n",
    "X.head()"
   ]
  },
  {
   "cell_type": "code",
   "execution_count": 6,
   "metadata": {},
   "outputs": [
    {
     "data": {
      "text/plain": [
       "(30845, 21)"
      ]
     },
     "execution_count": 6,
     "metadata": {},
     "output_type": "execute_result"
    }
   ],
   "source": [
    "sd = StandardScaler().fit(X)\n",
    "X = sd.transform(X)\n",
    "X.shape"
   ]
  },
  {
   "cell_type": "code",
   "execution_count": 7,
   "metadata": {},
   "outputs": [
    {
     "name": "stdout",
     "output_type": "stream",
     "text": [
      "(30845,)\n",
      "\n",
      "\n",
      "Entire - Private - Shared\n",
      "0         90\n",
      "1        140\n",
      "2         80\n",
      "3        690\n",
      "4         90\n",
      "        ... \n",
      "30840    150\n",
      "30841     78\n",
      "30842    245\n",
      "30843     70\n",
      "30844    400\n",
      "Name: Price, Length: 30845, dtype: int64\n"
     ]
    }
   ],
   "source": [
    "y = abnb['Price']\n",
    "print(y.shape)\n",
    "print(\"\\n\")\n",
    "print(\"Entire - Private - Shared\")\n",
    "print(y)"
   ]
  },
  {
   "cell_type": "markdown",
   "metadata": {},
   "source": [
    "### Creacion Red Neural"
   ]
  },
  {
   "cell_type": "code",
   "execution_count": 8,
   "metadata": {},
   "outputs": [],
   "source": [
    "def Red_Prueba(optimizer='rmsprop', init='glorot_uniform'):\n",
    "    model = Sequential()\n",
    "    model.add(Dense(18, input_dim = X.shape[1], kernel_initializer=init, activation='relu'))\n",
    "    model.add(Dense(15, kernel_initializer=init, activation='relu'))\n",
    "    model.add(Dense(8, kernel_initializer=init, activation='tanh'))\n",
    "    model.add(Dense(1, kernel_initializer=init, activation='linear'))\n",
    "\n",
    "    model.compile(loss='mean_absolute_error', optimizer=optimizer, metrics=['mean_absolute_error'])\n",
    "    return model\n",
    "\n",
    "model = KerasClassifier(build_fn=Red_Prueba, verbose=0)"
   ]
  },
  {
   "cell_type": "markdown",
   "metadata": {},
   "source": [
    "### Tunning, utilizando Gridsearch CV"
   ]
  },
  {
   "cell_type": "code",
   "execution_count": 9,
   "metadata": {},
   "outputs": [
    {
     "name": "stdout",
     "output_type": "stream",
     "text": [
      "(500, 21) (500,)\n"
     ]
    }
   ],
   "source": [
    "optimizers = ['SGD', 'adam', 'Nadam']\n",
    "init = ['uniform', 'normal', 'zero']\n",
    "epochs = [25, 50, 75]\n",
    "batches = [5, 10, 15]\n",
    "\n",
    "X_Trial = X[0:500,:] \n",
    "y_Trial = y[0:500,]\n",
    "print(X_Trial.shape, y_Trial.shape)"
   ]
  },
  {
   "cell_type": "markdown",
   "metadata": {},
   "source": [
    "### Intento GridSearchCV, murio el kernel de SageMaker"
   ]
  },
  {
   "cell_type": "code",
   "execution_count": 10,
   "metadata": {},
   "outputs": [],
   "source": [
    "#Tunnin_Grid = dict(optimizer=optimizers, epochs=epochs, batch_size=batches, init=init)\n",
    "#grid_cv = GridSearchCV(estimator=model, param_grid=Tunnin_Grid, scoring='neg_mean_absolute_error')\n",
    "#best_grid = grid_cv.fit(X_Trial, y_Trial)\n",
    "\n",
    "#print(\"BestGrid: %f using %s\" % (best_grid.best_score_, best_grid.best_params_))\n",
    "#means = best_grid.cv_results_['mean_test_score']\n",
    "#stds = best_grid.cv_results_['std_test_score']\n",
    "#params = best_grid.cv_results_A['params']\n",
    "#for mean, stdev, param in zip(means, stds, params):\n",
    "    #print(\"%f (%f) with: %r\" % (mean, stdev, param))"
   ]
  },
  {
   "cell_type": "markdown",
   "metadata": {},
   "source": [
    "### Separacion X y | Train y Test"
   ]
  },
  {
   "cell_type": "code",
   "execution_count": 11,
   "metadata": {},
   "outputs": [
    {
     "name": "stdout",
     "output_type": "stream",
     "text": [
      "(18507, 21) (18507,) (8636, 21) (8636,) (3702, 21) (3702,)\n"
     ]
    }
   ],
   "source": [
    "X_train, X_test, y_train, y_test = train_test_split(X, y, test_size=0.4, random_state=100)\n",
    "X_test, X_cv, y_test, y_cv = train_test_split(X_test, y_test, test_size=0.3, random_state=100)\n",
    "print(X_train.shape, y_train.shape, X_test.shape, y_test.shape, X_cv.shape, y_cv.shape)"
   ]
  },
  {
   "cell_type": "markdown",
   "metadata": {},
   "source": [
    "### Modelos"
   ]
  },
  {
   "cell_type": "code",
   "execution_count": 18,
   "metadata": {},
   "outputs": [],
   "source": [
    "from sklearn.model_selection import KFold\n",
    "from keras.wrappers.scikit_learn import KerasRegressor\n",
    "def modelo():\n",
    "    model = Sequential()\n",
    "    model.add(Dense(15, input_shape = (21,), kernel_initializer='normal', activation='relu'))\n",
    "    model.add(Dense(1, kernel_initializer='normal'))\n",
    "    model.compile(loss='mean_squared_error', optimizer='adam')\n",
    "    return model\n",
    "KEstimator = KerasRegressor(build_fn=modelo, epochs=200, batch_size=25, verbose=0)\n",
    "KF = KFold(n_splits = 10)\n",
    "results = cross_val_score(KEstimator, X_test, y_test, cv=KF)"
   ]
  },
  {
   "cell_type": "code",
   "execution_count": 19,
   "metadata": {},
   "outputs": [
    {
     "name": "stdout",
     "output_type": "stream",
     "text": [
      "Baseline: -2971.36 (467.27) MSE\n"
     ]
    }
   ],
   "source": [
    "print(\"Resultados de la media y varianza extraídos de los 10 splits de CV\")\n",
    "print(\"R: %.2f (%.2f) MSE\" % (results.mean(), results.std()))\n",
    "model.summary()"
   ]
  },
  {
   "cell_type": "code",
   "execution_count": 22,
   "metadata": {},
   "outputs": [
    {
     "name": "stdout",
     "output_type": "stream",
     "text": [
      "Resultados de la media y varianza extraídos de los 10 splits de CV\n",
      "R: -2971.36 (467.27) MSE\n",
      "_________________________________________________________________\n",
      "Layer (type)                 Output Shape              Param #   \n",
      "=================================================================\n",
      "dense_1 (Dense)              (None, 15)                330       \n",
      "_________________________________________________________________\n",
      "dense_2 (Dense)              (None, 1)                 16        \n",
      "=================================================================\n",
      "Total params: 346\n",
      "Trainable params: 346\n",
      "Non-trainable params: 0\n",
      "_________________________________________________________________\n"
     ]
    }
   ],
   "source": [
    "def modelo1():\n",
    "    model = Sequential()\n",
    "    model.add(Dense(15, input_shape = (21,), kernel_initializer='normal', activation='relu'))\n",
    "    model.add(Dense(5, kernel_initializer='normal', activation='tanh'))\n",
    "    model.add(Dense(1, kernel_initializer='normal'))\n",
    "    model.compile(loss='mean_squared_error', optimizer='adam')\n",
    "    return model\n",
    "KEstimator = KerasRegressor(build_fn=modelo1, epochs=200, batch_size=25, verbose=0)\n",
    "KF = KFold(n_splits = 15)\n",
    "resultados = cross_val_score(KEstimator, X_test, y_test, cv=KF)\n",
    "\n",
    "print(\"Resultados de la media y varianza extraídos de los 10 splits de CV\")\n",
    "print(\"R: %.2f (%.2f) MSE\" % (results.mean(), results.std()))\n",
    "model.summary()"
   ]
  },
  {
   "cell_type": "code",
   "execution_count": 23,
   "metadata": {},
   "outputs": [
    {
     "name": "stdout",
     "output_type": "stream",
     "text": [
      "WARNING:tensorflow:From /opt/conda/lib/python3.7/site-packages/keras/backend/tensorflow_backend.py:3013: calling dropout (from tensorflow.python.ops.nn_ops) with keep_prob is deprecated and will be removed in a future version.\n",
      "Instructions for updating:\n",
      "Please use `rate` instead of `keep_prob`. Rate should be set to `rate = 1 - keep_prob`.\n",
      "Resultados de la media y varianza extraídos de los 15 splits de CV\n",
      "R: -2971.36 (467.27) MSE\n",
      "_________________________________________________________________\n",
      "Layer (type)                 Output Shape              Param #   \n",
      "=================================================================\n",
      "dense_1 (Dense)              (None, 15)                330       \n",
      "_________________________________________________________________\n",
      "dense_2 (Dense)              (None, 1)                 16        \n",
      "=================================================================\n",
      "Total params: 346\n",
      "Trainable params: 346\n",
      "Non-trainable params: 0\n",
      "_________________________________________________________________\n"
     ]
    }
   ],
   "source": [
    "def modelo2():\n",
    "    model = Sequential()\n",
    "    model.add(Dense(18, input_shape = (21,), kernel_initializer='normal', activation='relu'))\n",
    "    model.add(Dropout(0.3))\n",
    "    model.add(Dense(12, kernel_initializer='normal', activation='tanh'))\n",
    "    model.add(Dropout(0.3))\n",
    "    model.add(Dense(6, kernel_initializer='normal', activation='relu'))\n",
    "    model.add(Dense(1, kernel_initializer='normal'))\n",
    "    model.compile(loss='mean_squared_error', optimizer='adam')\n",
    "    return model\n",
    "KEstimator = KerasRegressor(build_fn=modelo2, epochs=200, batch_size=25, verbose=0)\n",
    "KF = KFold(n_splits = 15)\n",
    "resultados = cross_val_score(KEstimator, X_test, y_test, cv=KF)\n",
    "\n",
    "print(\"Resultados de la media y varianza extraídos de los 15 splits de CV\")\n",
    "print(\"R: %.2f (%.2f) MSE\" % (results.mean(), results.std()))\n",
    "model.summary()"
   ]
  },
  {
   "cell_type": "markdown",
   "metadata": {},
   "source": [
    "### Predicción"
   ]
  },
  {
   "cell_type": "code",
   "execution_count": 41,
   "metadata": {},
   "outputs": [
    {
     "name": "stdout",
     "output_type": "stream",
     "text": [
      "_________________________________________________________________\n",
      "Layer (type)                 Output Shape              Param #   \n",
      "=================================================================\n",
      "dense_136 (Dense)            (None, 25)                550       \n",
      "_________________________________________________________________\n",
      "dropout_35 (Dropout)         (None, 25)                0         \n",
      "_________________________________________________________________\n",
      "dense_137 (Dense)            (None, 20)                520       \n",
      "_________________________________________________________________\n",
      "dropout_36 (Dropout)         (None, 20)                0         \n",
      "_________________________________________________________________\n",
      "dense_138 (Dense)            (None, 18)                378       \n",
      "_________________________________________________________________\n",
      "dropout_37 (Dropout)         (None, 18)                0         \n",
      "_________________________________________________________________\n",
      "dense_139 (Dense)            (None, 12)                228       \n",
      "_________________________________________________________________\n",
      "dropout_38 (Dropout)         (None, 12)                0         \n",
      "_________________________________________________________________\n",
      "dense_140 (Dense)            (None, 6)                 78        \n",
      "_________________________________________________________________\n",
      "dense_141 (Dense)            (None, 1)                 7         \n",
      "=================================================================\n",
      "Total params: 1,761\n",
      "Trainable params: 1,761\n",
      "Non-trainable params: 0\n",
      "_________________________________________________________________\n"
     ]
    }
   ],
   "source": [
    "model = Sequential()\n",
    "model.add(Dense(25, input_shape = (21,), kernel_initializer='normal', activation='relu'))\n",
    "model.add(Dropout(0.3))\n",
    "model.add(Dense(20, kernel_initializer='normal', activation='tanh'))\n",
    "model.add(Dropout(0.3))\n",
    "model.add(Dense(18, kernel_initializer='normal', activation='relu'))\n",
    "model.add(Dropout(0.3))\n",
    "model.add(Dense(12, kernel_initializer='normal', activation='tanh'))\n",
    "model.add(Dropout(0.3))\n",
    "model.add(Dense(6, kernel_initializer='normal', activation='relu'))\n",
    "model.add(Dense(1, kernel_initializer='normal'))\n",
    "model.compile(loss='mean_squared_error', optimizer='adam', metrics = ['mae'])\n",
    "model.summary()  "
   ]
  },
  {
   "cell_type": "code",
   "execution_count": 47,
   "metadata": {},
   "outputs": [],
   "source": [
    "history = model.fit(X_train, y_train, epochs=200, batch_size=25, verbose=0)"
   ]
  },
  {
   "cell_type": "code",
   "execution_count": 48,
   "metadata": {},
   "outputs": [
    {
     "name": "stdout",
     "output_type": "stream",
     "text": [
      "8636/8636 [==============================] - 0s 31us/step\n",
      "MAE: 30.964674929768577\n"
     ]
    }
   ],
   "source": [
    "_, mae = model.evaluate(X_test, y_test)\n",
    "print('MAE:', mae)"
   ]
  },
  {
   "cell_type": "code",
   "execution_count": 49,
   "metadata": {},
   "outputs": [
    {
     "name": "stdout",
     "output_type": "stream",
     "text": [
      "3702/3702 [==============================] - 0s 32us/step\n",
      "MAE: 30.221572212371743\n"
     ]
    }
   ],
   "source": [
    "_, mae = model.evaluate(X_cv, y_cv)\n",
    "print('MAE:', mae)"
   ]
  },
  {
   "cell_type": "code",
   "execution_count": 50,
   "metadata": {},
   "outputs": [
    {
     "data": {
      "text/plain": [
       "97.69502350461987"
      ]
     },
     "execution_count": 50,
     "metadata": {},
     "output_type": "execute_result"
    }
   ],
   "source": [
    "abnb[\"Price\"].mean()"
   ]
  },
  {
   "cell_type": "code",
   "execution_count": null,
   "metadata": {},
   "outputs": [],
   "source": []
  }
 ],
 "metadata": {
  "instance_type": "ml.t3.medium",
  "kernelspec": {
   "display_name": "Python 3 (Data Science)",
   "language": "python",
   "name": "python3__SAGEMAKER_INTERNAL__arn:aws:sagemaker:us-east-2:429704687514:image/datascience-1.0"
  },
  "language_info": {
   "codemirror_mode": {
    "name": "ipython",
    "version": 3
   },
   "file_extension": ".py",
   "mimetype": "text/x-python",
   "name": "python",
   "nbconvert_exporter": "python",
   "pygments_lexer": "ipython3",
   "version": "3.7.10"
  }
 },
 "nbformat": 4,
 "nbformat_minor": 5
}
